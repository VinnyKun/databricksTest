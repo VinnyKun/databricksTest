{
  "cells": [
    {
      "cell_type": "markdown",
      "metadata": {
        "application/vnd.databricks.v1+cell": {
          "cellMetadata": {},
          "inputWidgets": {},
          "nuid": "36f9f228-a6d4-4112-ac74-64a0b564ac85",
          "showTitle": false,
          "title": ""
        },
        "id": "Z2kGijdiREMQ"
      },
      "source": [
        "# CS4225/CS5425 Assignment 2\n"
      ]
    },
    {
      "cell_type": "code",
      "source": [
        "# For Google Colaboratory\n",
        "!pip install pyspark py4j\n",
        "from pyspark.sql import SparkSession\n",
        "spark = SparkSession.builder.appName(\"Basics\").getOrCreate()"
      ],
      "metadata": {
        "id": "fsEszpR0CFcY"
      },
      "execution_count": null,
      "outputs": []
    },
    {
      "cell_type": "code",
      "source": [
        "# For Google Colaboratory\n",
        "import sys, os\n",
        "if 'google.colab' in sys.modules:\n",
        "    # mount google drive\n",
        "    from google.colab import drive\n",
        "    drive.mount('/content/gdrive')\n",
        "    path_to_file = '/content/gdrive/MyDrive/Assignment_2/' # Please adjust the path accordingly\n",
        "    os.chdir(path_to_file)\n",
        "    !pwd"
      ],
      "metadata": {
        "id": "wRh7iyJLCEOL"
      },
      "execution_count": null,
      "outputs": []
    },
    {
      "cell_type": "markdown",
      "metadata": {
        "application/vnd.databricks.v1+cell": {
          "cellMetadata": {},
          "inputWidgets": {},
          "nuid": "ccfc2f1b-1142-4a36-ae5a-3a1deca6548a",
          "showTitle": false,
          "title": ""
        },
        "id": "ov6DQ7BjREMS"
      },
      "source": [
        "## 1. Data Preparation"
      ]
    },
    {
      "cell_type": "code",
      "execution_count": null,
      "metadata": {
        "application/vnd.databricks.v1+cell": {
          "cellMetadata": {},
          "inputWidgets": {},
          "nuid": "f657236b-404d-44bc-919a-f60f239552ee",
          "showTitle": false,
          "title": ""
        },
        "id": "8_kv-JfSREMS"
      },
      "outputs": [],
      "source": [
        "from pyspark.sql.types import *\n",
        "from pyspark.sql.functions import *"
      ]
    },
    {
      "cell_type": "code",
      "execution_count": null,
      "metadata": {
        "application/vnd.databricks.v1+cell": {
          "cellMetadata": {},
          "inputWidgets": {},
          "nuid": "d466d1ca-b610-4425-a2ef-df835e841dd1",
          "showTitle": false,
          "title": ""
        },
        "id": "BW2Jmif1REMS"
      },
      "outputs": [],
      "source": [
        "# 1.1 Load Data"
      ]
    },
    {
      "cell_type": "code",
      "execution_count": null,
      "metadata": {
        "application/vnd.databricks.v1+cell": {
          "cellMetadata": {},
          "inputWidgets": {},
          "nuid": "24451737-352a-4ef7-b639-ad683dc7e7fe",
          "showTitle": false,
          "title": ""
        },
        "id": "oW-lsOPLREMT"
      },
      "outputs": [],
      "source": [
        "# 1.2 Feature Selection"
      ]
    },
    {
      "cell_type": "code",
      "source": [
        "# 1.3 Joint Table"
      ],
      "metadata": {
        "collapsed": true,
        "id": "ys9XqhMzKrQZ"
      },
      "execution_count": null,
      "outputs": []
    },
    {
      "cell_type": "code",
      "source": [
        "# 1.4 Missing Value Check"
      ],
      "metadata": {
        "collapsed": true,
        "id": "zl7t4ghSKrS2"
      },
      "execution_count": null,
      "outputs": []
    },
    {
      "cell_type": "code",
      "source": [
        "# 1.5 Missing Value Processing"
      ],
      "metadata": {
        "id": "V4qSI4qHKrVh"
      },
      "execution_count": null,
      "outputs": []
    },
    {
      "cell_type": "code",
      "source": [
        "# 1.6 Save Processed Table"
      ],
      "metadata": {
        "id": "aB9sLM-PKreE"
      },
      "execution_count": null,
      "outputs": []
    },
    {
      "cell_type": "code",
      "source": [
        "# 1.7 Train Test Split"
      ],
      "metadata": {
        "id": "_Q1wzhTcK_aX"
      },
      "execution_count": null,
      "outputs": []
    },
    {
      "cell_type": "markdown",
      "metadata": {
        "application/vnd.databricks.v1+cell": {
          "cellMetadata": {},
          "inputWidgets": {},
          "nuid": "122f1731-f2ee-4352-ae6a-c581fc7e62a9",
          "showTitle": false,
          "title": ""
        },
        "id": "8HmLcffhREMT"
      },
      "source": [
        "## 2. Build ML Pipeline\n"
      ]
    },
    {
      "cell_type": "code",
      "execution_count": null,
      "metadata": {
        "application/vnd.databricks.v1+cell": {
          "cellMetadata": {},
          "inputWidgets": {},
          "nuid": "f37f3841-87cd-40eb-a55d-e2a45fb72ff4",
          "showTitle": false,
          "title": ""
        },
        "id": "y-Xe8YCyREMT"
      },
      "outputs": [],
      "source": [
        "# 2.1 Three Steps"
      ]
    },
    {
      "cell_type": "code",
      "execution_count": null,
      "metadata": {
        "application/vnd.databricks.v1+cell": {
          "cellMetadata": {},
          "inputWidgets": {},
          "nuid": "379dd35b-fbe1-40cd-b677-c55bddd5da1c",
          "showTitle": false,
          "title": ""
        },
        "id": "AnoMyX1eREMU"
      },
      "outputs": [],
      "source": [
        "# 2.2 Build ML Pipeline"
      ]
    },
    {
      "cell_type": "code",
      "source": [
        "# 2.3 Train the pipeline using training data"
      ],
      "metadata": {
        "id": "8u6ttZPzbaId"
      },
      "execution_count": null,
      "outputs": []
    },
    {
      "cell_type": "markdown",
      "metadata": {
        "application/vnd.databricks.v1+cell": {
          "cellMetadata": {},
          "inputWidgets": {},
          "nuid": "339bc069-d8f8-4c5e-8095-e63680985cd2",
          "showTitle": false,
          "title": ""
        },
        "id": "B2DahKl4REMU"
      },
      "source": [
        "## 3. Evaluate ML Pipeline"
      ]
    },
    {
      "cell_type": "code",
      "execution_count": null,
      "metadata": {
        "application/vnd.databricks.v1+cell": {
          "cellMetadata": {},
          "inputWidgets": {},
          "nuid": "b1207950-6146-4281-83ff-e4d9ab970611",
          "showTitle": false,
          "title": ""
        },
        "id": "BGdmIixnREMU"
      },
      "outputs": [],
      "source": [
        "#3.1 Training MAE"
      ]
    },
    {
      "cell_type": "code",
      "execution_count": null,
      "metadata": {
        "application/vnd.databricks.v1+cell": {
          "cellMetadata": {},
          "inputWidgets": {},
          "nuid": "48f37c77-de20-4555-a0da-0d1b615e70f9",
          "showTitle": false,
          "title": ""
        },
        "id": "nfBVmGOBREMU"
      },
      "outputs": [],
      "source": [
        "#3.2 Testing MAE"
      ]
    }
  ],
  "metadata": {
    "application/vnd.databricks.v1+notebook": {
      "dashboards": [],
      "language": "python",
      "notebookMetadata": {
        "pythonIndentUnit": 4
      },
      "notebookName": "assignment_2_student",
      "widgets": {}
    },
    "colab": {
      "provenance": []
    },
    "language_info": {
      "name": "python"
    },
    "kernelspec": {
      "name": "python3",
      "display_name": "Python 3"
    }
  },
  "nbformat": 4,
  "nbformat_minor": 0
}